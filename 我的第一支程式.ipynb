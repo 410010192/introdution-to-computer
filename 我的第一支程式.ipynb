{
  "nbformat": 4,
  "nbformat_minor": 0,
  "metadata": {
    "colab": {
      "provenance": [],
      "authorship_tag": "ABX9TyPi1qFfkukNlZRrHJwt8b22",
      "include_colab_link": true
    },
    "kernelspec": {
      "name": "python3",
      "display_name": "Python 3"
    },
    "language_info": {
      "name": "python"
    }
  },
  "cells": [
    {
      "cell_type": "markdown",
      "metadata": {
        "id": "view-in-github",
        "colab_type": "text"
      },
      "source": [
        "<a href=\"https://colab.research.google.com/github/410010192/introdution-to-computer/blob/main/%E6%88%91%E7%9A%84%E7%AC%AC%E4%B8%80%E6%94%AF%E7%A8%8B%E5%BC%8F.ipynb\" target=\"_parent\"><img src=\"https://colab.research.google.com/assets/colab-badge.svg\" alt=\"Open In Colab\"/></a>"
      ]
    },
    {
      "cell_type": "code",
      "execution_count": 1,
      "metadata": {
        "colab": {
          "base_uri": "https://localhost:8080/"
        },
        "id": "CPvn4eJt_UY8",
        "outputId": "f6dbf125-1c83-4a48-9cac-b8330540ff80"
      },
      "outputs": [
        {
          "output_type": "stream",
          "name": "stdout",
          "text": [
            "張如安 410010192\n"
          ]
        }
      ],
      "source": [
        "print(\"張如安 410010192\")"
      ]
    },
    {
      "cell_type": "code",
      "source": [
        "a=1\n",
        "b=2\n",
        "c=3\n",
        "d=4\n",
        "e=\"hello\"\n",
        "print(a,b,c,d,e)"
      ],
      "metadata": {
        "colab": {
          "base_uri": "https://localhost:8080/"
        },
        "id": "51EuCnH2B9ON",
        "outputId": "bf6e0ec7-0c50-420b-9289-1468b117db07"
      },
      "execution_count": 2,
      "outputs": [
        {
          "output_type": "stream",
          "name": "stdout",
          "text": [
            "1 2 3 4 hello\n"
          ]
        }
      ]
    },
    {
      "cell_type": "code",
      "source": [],
      "metadata": {
        "id": "LnukwYkmCiZz"
      },
      "execution_count": null,
      "outputs": []
    }
  ]
}
{
  "nbformat": 4,
  "nbformat_minor": 0,
  "metadata": {
    "colab": {
      "provenance": [],
      "authorship_tag": "ABX9TyPa68PMJI3L6LBocoYJVjyz",
      "include_colab_link": true
    },
    "kernelspec": {
      "name": "python3",
      "display_name": "Python 3"
    },
    "language_info": {
      "name": "python"
    }
  },
  "cells": [
    {
      "cell_type": "markdown",
      "metadata": {
        "id": "view-in-github",
        "colab_type": "text"
      },
      "source": [
        "<a href=\"https://colab.research.google.com/github/410010192/introdution-to-computer/blob/main/0508.ipynb\" target=\"_parent\"><img src=\"https://colab.research.google.com/assets/colab-badge.svg\" alt=\"Open In Colab\"/></a>"
      ]
    },
    {
      "cell_type": "code",
      "execution_count": 1,
      "metadata": {
        "colab": {
          "base_uri": "https://localhost:8080/"
        },
        "id": "kfbeBZx3VdJh",
        "outputId": "3484c1e9-26a5-4b9a-92b3-7a181f707d37"
      },
      "outputs": [
        {
          "output_type": "stream",
          "name": "stdout",
          "text": [
            "34\n",
            "體溫正常!\n"
          ]
        }
      ],
      "source": [
        "t=float(input())\n",
        "if t >= 37.5:\n",
        "  print(\"體溫過高!\")\n",
        "elif 37.4 < t <= 37:\n",
        "  print(\"體溫略高!\")\n",
        "elif 34<= t <=36.9:\n",
        "  print(\"體溫正常!\")\n",
        "elif t< 34:\n",
        "  print(\"體溫異常，請重新測量!\")"
      ]
    },
    {
      "cell_type": "code",
      "source": [
        "s = float(input())\n",
        "if s >= 90:\n",
        "  print(\"A\")\n",
        "elif 80 <= s <90:\n",
        "  print(\"B\")\n",
        "elif 70 <= s <80:\n",
        "  print(\"C\")\n",
        "elif 60 <= s <70:\n",
        "  print(\"D\")\n",
        "else:\n",
        "  print(\"E\")"
      ],
      "metadata": {
        "colab": {
          "base_uri": "https://localhost:8080/"
        },
        "id": "1zVwhyzTVepC",
        "outputId": "41c9ac47-520f-4ab3-d893-172bbe41c80e"
      },
      "execution_count": 2,
      "outputs": [
        {
          "output_type": "stream",
          "name": "stdout",
          "text": [
            "100\n",
            "A\n"
          ]
        }
      ]
    },
    {
      "cell_type": "code",
      "source": [
        "m = int(input())\n",
        "if m==3 or m==4 or m==5:\n",
        "  print(\"春天!\")\n",
        "elif m==6or m==7 or m==8:\n",
        "  print(\"夏天!\")\n",
        "elif m==9 or m==10 or m==11:\n",
        "  print(\"秋天!\")\n",
        "elif m==12 or m==1 or m==2:\n",
        "  print(\"冬天!\")\n",
        "else:\n",
        "  print(\"月份不再範圍內!\")"
      ],
      "metadata": {
        "colab": {
          "base_uri": "https://localhost:8080/"
        },
        "id": "b8UCdkmvVnR6",
        "outputId": "f4a5b837-1c83-4672-97cc-7e031bd1d460"
      },
      "execution_count": 3,
      "outputs": [
        {
          "output_type": "stream",
          "name": "stdout",
          "text": [
            "12\n",
            "冬天!\n"
          ]
        }
      ]
    },
    {
      "cell_type": "code",
      "source": [],
      "metadata": {
        "id": "TfdbX6c2WHRH"
      },
      "execution_count": null,
      "outputs": []
    }
  ]
}
{
  "nbformat": 4,
  "nbformat_minor": 0,
  "metadata": {
    "colab": {
      "provenance": [],
      "authorship_tag": "ABX9TyNkfJKvqKBvfRj415pcl2JH",
      "include_colab_link": true
    },
    "kernelspec": {
      "name": "python3",
      "display_name": "Python 3"
    },
    "language_info": {
      "name": "python"
    }
  },
  "cells": [
    {
      "cell_type": "markdown",
      "metadata": {
        "id": "view-in-github",
        "colab_type": "text"
      },
      "source": [
        "<a href=\"https://colab.research.google.com/github/410010192/introdution-to-computer/blob/main/0322.ipynb\" target=\"_parent\"><img src=\"https://colab.research.google.com/assets/colab-badge.svg\" alt=\"Open In Colab\"/></a>"
      ]
    },
    {
      "cell_type": "code",
      "source": [
        "x=int(input(\"請輸入國文成績\"))\n",
        "y=int(input(\"請輸入英文成績\"))\n",
        "z=int(input(\"請輸入數學成績\"))\n",
        "print(\"你的成績總分為:\")\n",
        "print(x+y+z)"
      ],
      "metadata": {
        "colab": {
          "base_uri": "https://localhost:8080/"
        },
        "id": "khpf0VwlVjTr",
        "outputId": "ac891d49-f91d-48cc-8391-07a802d82c3d"
      },
      "execution_count": null,
      "outputs": [
        {
          "output_type": "stream",
          "name": "stdout",
          "text": [
            "請輸入國文成績98\n",
            "請輸入英文成績98\n",
            "請輸入數學成績98\n",
            "你的成績總分為:\n",
            "294\n"
          ]
        }
      ]
    },
    {
      "cell_type": "code",
      "source": [
        "x=int(input(\"請輸入梯形上底長度:\"))\n",
        "y=int(input(\"請輸入梯形下底長度:\"))\n",
        "h=int(input(\"請輸入梯形的高度:\"))\n",
        "p=(x+y)*h/2\n",
        "print(\"上底長度為: \",x,\"下底長度為: \",y,\"高度為: \",h,\"梯形面積為: \",p)"
      ],
      "metadata": {
        "colab": {
          "base_uri": "https://localhost:8080/"
        },
        "id": "plK1zjCUVriL",
        "outputId": "19eb2e87-8602-4a51-ec28-b8598e9ed21d"
      },
      "execution_count": null,
      "outputs": [
        {
          "output_type": "stream",
          "name": "stdout",
          "text": [
            "請輸入梯形上底長度:9\n",
            "請輸入梯形下底長度:8\n",
            "請輸入梯形的高度:6\n",
            "上底長度為:  9 下底長度為:  8 高度為:  6 梯形面積為:  51.0\n"
          ]
        }
      ]
    },
    {
      "cell_type": "code",
      "source": [
        "x=int(input(\"請輸入您的身高(cm): \"))\n",
        "y=int(input(\"請輸入您的身高(kg): \"))\n",
        "bmi=y/((x/100)**2)\n",
        "print(\"身高 \",x,\"公分,體重 \",y,\"公斤,BMI值為 \",\"%.2f\"%bmi)"
      ],
      "metadata": {
        "colab": {
          "base_uri": "https://localhost:8080/"
        },
        "id": "TOmaDYDSVzBk",
        "outputId": "b6b926aa-5bd8-4880-f6f8-f91d52065265"
      },
      "execution_count": null,
      "outputs": [
        {
          "output_type": "stream",
          "name": "stdout",
          "text": [
            "請輸入您的身高(cm): 99\n",
            "請輸入您的身高(kg): 99\n",
            "身高  99 公分,體重  99 公斤,BMI值為  101.01\n"
          ]
        }
      ]
    },
    {
      "cell_type": "code",
      "source": [
        "x=int(input(\"請輸入您的身高(cm): \"))\n",
        "y=int(input(\"請輸入您的體重(kg): \"))\n",
        "bmi=y/((x/100)**2)\n",
        "print(\"身高 \",x,\"公分,體重 \",y,\"公斤,BMI值為 \",\"%.2f\"%bmi)"
      ],
      "metadata": {
        "colab": {
          "base_uri": "https://localhost:8080/"
        },
        "id": "8ModpALhV9aW",
        "outputId": "9b5e34f3-1c7a-4022-f8c2-8c826e317d0d"
      },
      "execution_count": null,
      "outputs": [
        {
          "output_type": "stream",
          "name": "stdout",
          "text": [
            "請輸入您的身高(cm): 99\n",
            "請輸入您的體重(kg): 99\n",
            "身高  99 公分,體重  99 公斤,BMI值為  101.01\n"
          ]
        }
      ]
    },
    {
      "cell_type": "code",
      "source": [],
      "metadata": {
        "id": "J814xgRLWJOj"
      },
      "execution_count": null,
      "outputs": []
    }
  ]
}